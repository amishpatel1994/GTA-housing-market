{
 "cells": [
  {
   "cell_type": "code",
   "execution_count": 2,
   "metadata": {},
   "outputs": [],
   "source": [
    "from selenium import webdriver\n",
    "from webdriver_manager.chrome import ChromeDriverManager"
   ]
  },
  {
   "cell_type": "code",
   "execution_count": 3,
   "metadata": {},
   "outputs": [
    {
     "name": "stderr",
     "output_type": "stream",
     "text": [
      "[WDM] - Current google-chrome version is 84.0.4147\n",
      "[WDM] - Get LATEST driver version for 84.0.4147\n",
      "[WDM] - Driver [/Users/apatel/.wdm/drivers/chromedriver/mac64/84.0.4147.30/chromedriver] found in cache\n"
     ]
    },
    {
     "name": "stdout",
     "output_type": "stream",
     "text": [
      " \n"
     ]
    }
   ],
   "source": [
    "driver = webdriver.Chrome(ChromeDriverManager().install())"
   ]
  },
  {
   "cell_type": "code",
   "execution_count": 5,
   "metadata": {},
   "outputs": [],
   "source": [
    "driver.get(\"https://mlssolddata.com\")"
   ]
  },
  {
   "cell_type": "code",
   "execution_count": 7,
   "metadata": {},
   "outputs": [],
   "source": [
    "driver.switch_to.frame(driver.find_element_by_tag_name(\"iframe\"))"
   ]
  },
  {
   "cell_type": "code",
   "execution_count": 105,
   "metadata": {},
   "outputs": [],
   "source": [
    "listing_desc = driver.find_element_by_css_selector('.mrp-listing-description .inner').get_attribute(\"innerHTML\")"
   ]
  },
  {
   "cell_type": "code",
   "execution_count": 118,
   "metadata": {},
   "outputs": [],
   "source": [
    "main_summary = driver.find_element_by_class_name('mrp-details-main-summary')\n",
    "# main_summary_arr = [main_summary.find_element_by_css_selector(f\"{css_class} dd\").text\n",
    "main_summary_elems = [\n",
    "  'Listed Date',\n",
    "  'Sold Date',\n",
    "  'Listed Price',\n",
    "  'Sold Price',\n",
    "  'Sold in',\n",
    "  'Prop. Type',\n",
    "  'Bedrooms',\n",
    "  'Bathrooms',\n",
    "  'MLS® Num'\n",
    "]\n",
    "house = {elem: main_summary.find_element_by_xpath(f'//*[contains(text(), \"{elem}:\")]/../dd').get_attribute('innerHTML') for elem in main_summary_elems}"
   ]
  },
  {
   "cell_type": "code",
   "execution_count": 119,
   "metadata": {},
   "outputs": [
    {
     "data": {
      "text/plain": [
       "{'Listed Date': 'Jul 17, 2019',\n",
       " 'Sold Date': 'Sep 06, 2019',\n",
       " 'Listed Price': '$1,299,000',\n",
       " 'Sold Price': '$1,275,000',\n",
       " 'Sold in': '51 days',\n",
       " 'Prop. Type': 'Freehold',\n",
       " 'Bedrooms': '<span>5</span>',\n",
       " 'Bathrooms': '<span>5</span>',\n",
       " 'MLS® Num': '<span>W4480361</span>',\n",
       " 'Property Type': 'Freehold',\n",
       " 'Freehold Type': 'Detached',\n",
       " 'Home Style': '3-Storey',\n",
       " 'Approx. Age': '6-15',\n",
       " 'Depth': '<span class=\"mrp-i-unit\" id=\"i-units1\">114\\'2\"</span><span class=\"mrp-m-unit\" id=\"m-units1\" style=\"display: none\">34.805 m</span>',\n",
       " 'Frontage': '<span class=\"mrp-i-unit\" id=\"i-units2\">32\\'½\"</span><span class=\"mrp-m-unit\" id=\"m-units2\" style=\"display: none\">9.766 m</span>',\n",
       " 'Exposure': 'West',\n",
       " 'Kitchens': '1',\n",
       " 'Rooms': '12',\n",
       " 'Total Approx Floor Area': '2500-3000',\n",
       " 'Heating type': 'Forced Air',\n",
       " 'Heating Fuel': 'Gas',\n",
       " 'Fireplace/Stove': 'Yes',\n",
       " 'Garage': 'Attached',\n",
       " 'Garage Spaces': '2',\n",
       " 'Total Parking Spaces': '6',\n",
       " 'Family Room': 'Y',\n",
       " 'Possession Details': 'Tba',\n",
       " 'Taxes': '$6,493.11 /\\n2018\\n'}"
      ]
     },
     "execution_count": 119,
     "metadata": {},
     "output_type": "execute_result"
    }
   ],
   "source": [
    "general_info = driver.find_element_by_css_selector('.mrp-listing-info-container')\n",
    "info_elems = [\n",
    "  'Property Type',\n",
    "  'Condo Type',\n",
    "  'Condo Style',\n",
    "  'Freehold Type',\n",
    "  'Home Style',\n",
    "  'Approx. Age',\n",
    "  'Depth',\n",
    "  'Frontage',\n",
    "  'Exposure',\n",
    "  'Kitchens',\n",
    "  'Rooms',\n",
    "  'Total Approx Floor Area',\n",
    "  'Heating type',\n",
    "  'Heating Fuel',\n",
    "  'Basement',\n",
    "  'Fireplace/Stove',\n",
    "  'Garage',\n",
    "  'Garage Spaces',\n",
    "  'Parking Spaces',\n",
    "  'Total Parking Spaces',\n",
    "  'Exterior Features',\n",
    "  'Family Room',\n",
    "  'Possession Details',\n",
    "  'Locker',\n",
    "  'Maintenance Fee',\n",
    "  'Taxes'\n",
    "]\n",
    "\n",
    "for elem in info_elems:\n",
    "  val = general_info.find_elements_by_xpath(f'//*[contains(text(), \"{elem}:\")]/../dd')\n",
    "  if len(val) == 1:\n",
    "    house[elem] = val[0].get_attribute('innerHTML')\n",
    "house"
   ]
  },
  {
   "cell_type": "code",
   "execution_count": 122,
   "metadata": {},
   "outputs": [
    {
     "data": {
      "text/plain": [
       "{'Listed Date': 'Jul 17, 2019',\n",
       " 'Sold Date': 'Sep 06, 2019',\n",
       " 'Listed Price': '$1,299,000',\n",
       " 'Sold Price': '$1,275,000',\n",
       " 'Sold in': '51 days',\n",
       " 'Prop. Type': 'Freehold',\n",
       " 'Bedrooms': '<span>5</span>',\n",
       " 'Bathrooms': '<span>5</span>',\n",
       " 'MLS® Num': '<span>W4480361</span>',\n",
       " 'Property Type': 'Freehold',\n",
       " 'Freehold Type': 'Detached',\n",
       " 'Home Style': '3-Storey',\n",
       " 'Approx. Age': '6-15',\n",
       " 'Depth': '<span class=\"mrp-i-unit\" id=\"i-units1\">114\\'2\"</span><span class=\"mrp-m-unit\" id=\"m-units1\" style=\"display: none\">34.805 m</span>',\n",
       " 'Frontage': '<span class=\"mrp-i-unit\" id=\"i-units2\">32\\'½\"</span><span class=\"mrp-m-unit\" id=\"m-units2\" style=\"display: none\">9.766 m</span>',\n",
       " 'Exposure': 'West',\n",
       " 'Kitchens': '1',\n",
       " 'Rooms': '12',\n",
       " 'Total Approx Floor Area': '2500-3000',\n",
       " 'Heating type': 'Forced Air',\n",
       " 'Heating Fuel': 'Gas',\n",
       " 'Fireplace/Stove': 'Yes',\n",
       " 'Garage': 'Attached',\n",
       " 'Garage Spaces': '2',\n",
       " 'Total Parking Spaces': '6',\n",
       " 'Family Room': 'Y',\n",
       " 'Possession Details': 'Tba',\n",
       " 'Taxes': '$6,493.11 /\\n2018\\n',\n",
       " 'Address': '4530 Centretown Way',\n",
       " 'Subarea': 'Hurontario',\n",
       " 'City': 'Mississauga',\n",
       " 'Postal Code': 'L5R0C7'}"
      ]
     },
     "execution_count": 122,
     "metadata": {},
     "output_type": "execute_result"
    }
   ],
   "source": [
    "house['Address'] = driver.find_element_by_css_selector('.mrp-listing-title').text.split('\\n')[0]\n",
    "subloc = driver.find_element_by_css_selector('.sub-location')\n",
    "house['Subarea'] = subloc.find_element_by_css_selector('.subarea').text\n",
    "house['City'] = subloc.find_element_by_css_selector('.city').text\n",
    "house['Postal Code'] = subloc.find_element_by_css_selector('.postal-code').text\n",
    "house"
   ]
  },
  {
   "cell_type": "code",
   "execution_count": null,
   "metadata": {},
   "outputs": [],
   "source": []
  }
 ],
 "metadata": {
  "kernelspec": {
   "display_name": "Python 3",
   "language": "python",
   "name": "python3"
  },
  "language_info": {
   "codemirror_mode": {
    "name": "ipython",
    "version": 3
   },
   "file_extension": ".py",
   "mimetype": "text/x-python",
   "name": "python",
   "nbconvert_exporter": "python",
   "pygments_lexer": "ipython3",
   "version": "3.7.3"
  }
 },
 "nbformat": 4,
 "nbformat_minor": 4
}
